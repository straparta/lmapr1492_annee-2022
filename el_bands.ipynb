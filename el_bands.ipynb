{
 "cells": [
  {
   "cell_type": "code",
   "execution_count": 39,
   "id": "3f618b0e",
   "metadata": {},
   "outputs": [],
   "source": [
    "from pymatgen.ext.matproj import MPRester\n",
    "from pymatgen.symmetry.analyzer import *\n",
    "from pymatgen.io.cif import *\n",
    "from pymatgen.core.operations import *\n",
    "from tabulate import tabulate\n",
    "from pymatgen.symmetry.site_symmetries import *\n",
    "import matplotlib.pyplot as plt\n",
    "import matplotlib.image as mpimg\n",
    "from pymatgen.analysis.diffraction.xrd import *\n",
    "from pymatgen.electronic_structure import bandstructure\n",
    "from pymatgen.electronic_structure import plotter"
   ]
  },
  {
   "cell_type": "code",
   "execution_count": 40,
   "id": "26ca4f4b",
   "metadata": {},
   "outputs": [],
   "source": [
    "USER_API_KEY = \"VE2Z5ZyFtdd4NPJ6F\"\n",
    "with MPRester(USER_API_KEY) as m:\n",
    "    structure = m.get_structure_by_material_id(\"mp-568662\")\n",
    "    bandstructure = m.get_bandstructure_by_material_id(\"mp-568662\")"
   ]
  },
  {
   "cell_type": "code",
   "execution_count": 41,
   "id": "30a847f4",
   "metadata": {},
   "outputs": [],
   "source": [
    "bandgap = bandstructure.get_band_gap()"
   ]
  },
  {
   "cell_type": "markdown",
   "id": "e24fd6a3",
   "metadata": {},
   "source": [
    "## Déterminer la bande interdite"
   ]
  },
  {
   "cell_type": "code",
   "execution_count": 42,
   "id": "70d0e88a",
   "metadata": {},
   "outputs": [
    {
     "name": "stdout",
     "output_type": "stream",
     "text": [
      "Énergie de la bande interdite :  5.4291 eV\n",
      "Bande interdite directe ? :  False\n"
     ]
    }
   ],
   "source": [
    "print(\"Énergie de la bande interdite : \",str(bandgap.get('energy'))+\" eV\")\n",
    "print(\"Bande interdite directe ? : \", str(bandgap.get('direct')))"
   ]
  },
  {
   "cell_type": "markdown",
   "id": "03bb24db",
   "metadata": {},
   "source": [
    "La bande interdite n'est pas directe et est supérieur à 1-2 eV, on est dans le cas d'un matériaux isolant \n",
    "(from https://fr.wikipedia.org/wiki/Théorie_des_bandes)"
   ]
  },
  {
   "cell_type": "markdown",
   "id": "3623a0e0",
   "metadata": {},
   "source": [
    "## Trouver la direction dans laquelle la dernière (première) bande de valence (conduction) présente le plus et le moins de dispersion (insérer une figure indiquant la dispersion par des flèches),"
   ]
  },
  {
   "cell_type": "markdown",
   "id": "995145e1",
   "metadata": {},
   "source": [
    "Rappels : \n",
    "- Conduction Band Minimum (CBM) = bande contenant le minimum de la bande de valence\n",
    "- Valence Band Maximum (VBM) =  bande contenant le maximum de la bande de valence\n"
   ]
  },
  {
   "cell_type": "code",
   "execution_count": 47,
   "id": "beb29959",
   "metadata": {},
   "outputs": [
    {
     "name": "stdout",
     "output_type": "stream",
     "text": [
      "Premiere bande de conduction \n",
      "Bande contenant le CBM defaultdict(<class 'list'>, {<Spin.up: 1>: [12]})\n"
     ]
    }
   ],
   "source": [
    "cbm = bandstructure.get_cbm()\n",
    "print(\"Premiere bande de conduction \")\n",
    "print(\"Bande contenant le CBM\",str(cbm.get('band_index')))"
   ]
  },
  {
   "cell_type": "markdown",
   "id": "01c71f95",
   "metadata": {},
   "source": [
    "#### La bande 12 est donc la première bande de valence."
   ]
  },
  {
   "cell_type": "code",
   "execution_count": 44,
   "id": "43af411b",
   "metadata": {},
   "outputs": [
    {
     "name": "stdout",
     "output_type": "stream",
     "text": [
      "Derniere bande de condution\n",
      "Bande contenant le VBM :  defaultdict(<class 'list'>, {<Spin.up: 1>: [11]})\n"
     ]
    }
   ],
   "source": [
    "vbm = bandstructure.get_vbm()\n",
    "print(\"Derniere bande de condution\")\n",
    "print(\"Bande contenant le VBM : \",str(vbm.get('band_index')))"
   ]
  },
  {
   "cell_type": "markdown",
   "id": "db54695b",
   "metadata": {},
   "source": [
    "#### La bande 11 est donc la dernière bande de valence."
   ]
  },
  {
   "cell_type": "markdown",
   "id": "19a714ff",
   "metadata": {},
   "source": [
    "#################################################################################################################"
   ]
  },
  {
   "cell_type": "markdown",
   "id": "32cab32e",
   "metadata": {},
   "source": [
    "## Calculer la masse effective au sommet (base) de la dernière (première) bande de valence (conduction) en supposant une dispersion parabolique"
   ]
  },
  {
   "cell_type": "code",
   "execution_count": 58,
   "id": "eed704df",
   "metadata": {},
   "outputs": [],
   "source": [
    "data = plot.bs_plot_data()\n",
    "distance = data.get('ticks').get('distance')\n",
    "distances = data.get('distances')\n",
    "energy = data.get('energy')"
   ]
  },
  {
   "cell_type": "code",
   "execution_count": null,
   "id": "cf9f0756",
   "metadata": {},
   "outputs": [],
   "source": []
  }
 ],
 "metadata": {
  "kernelspec": {
   "display_name": "Python 3",
   "language": "python",
   "name": "python3"
  },
  "language_info": {
   "codemirror_mode": {
    "name": "ipython",
    "version": 3
   },
   "file_extension": ".py",
   "mimetype": "text/x-python",
   "name": "python",
   "nbconvert_exporter": "python",
   "pygments_lexer": "ipython3",
   "version": "3.6.8"
  }
 },
 "nbformat": 4,
 "nbformat_minor": 5
}
