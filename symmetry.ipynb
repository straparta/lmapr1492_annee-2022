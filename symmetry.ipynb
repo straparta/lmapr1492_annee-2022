{
 "cells": [
  {
   "cell_type": "code",
   "execution_count": 14,
   "id": "a82b277c",
   "metadata": {},
   "outputs": [],
   "source": [
    "from pymatgen.ext.matproj import MPRester\n",
    "from pymatgen.io.cif import CifWriter\n",
    "from pymatgen.symmetry.analyzer import *\n",
    "from pymatgen.io.cif import *\n",
    "from pymatgen.core.operations import *\n",
    "from tabulate import tabulate\n",
    "from pymatgen.symmetry.site_symmetries import *\n",
    "import matplotlib.pyplot as plt\n",
    "import matplotlib.image as mpimg"
   ]
  },
  {
   "cell_type": "code",
   "execution_count": 15,
   "id": "4f2396e6",
   "metadata": {},
   "outputs": [],
   "source": [
    "Sym1 = SymmOp.from_xyz_string('-x, -y, -z')\n",
    "Sym2 = SymmOp.from_xyz_string('-y, x, z')\n",
    "Sym3 = SymmOp.from_xyz_string('y, -x, -z')"
   ]
  },
  {
   "cell_type": "code",
   "execution_count": 16,
   "id": "839c3afa",
   "metadata": {},
   "outputs": [],
   "source": [
    "Ba = [0.0,0.0,0.0]\n",
    "Cl1 = [0.25,0.25,0.25]\n",
    "Cl2 = [0.75,0.75,0.75]"
   ]
  },
  {
   "cell_type": "code",
   "execution_count": 17,
   "id": "c80cd4ac",
   "metadata": {},
   "outputs": [],
   "source": [
    "# Applique à chaque atome l'effet de 3 éléments de symétrie différents\n",
    "Bas = Sym1.operate(Ba)\n",
    "Cl1s = Sym2.operate(Cl1)\n",
    "Cl2s = Sym3.operate(Cl2)"
   ]
  },
  {
   "cell_type": "code",
   "execution_count": 18,
   "id": "7b3a2de0",
   "metadata": {},
   "outputs": [
    {
     "name": "stdout",
     "output_type": "stream",
     "text": [
      "\n",
      "\n",
      "Opération de symétrie               Atome de départ     Atome d'arrivée\n",
      "----------------------------------  ------------------  ----------------------------------\n",
      "(-x, -y, -z)                        [0.0, 0.0, 0.0]     [0. 0. 0.]\n",
      "----------------------------------\n",
      "Rot:\n",
      "[[-1.  0.  0.]\n",
      " [ 0. -1.  0.]\n",
      " [ 0.  0. -1.]]\n",
      "tau\n",
      "[0. 0. 0.]\n",
      "----------------------------------  -----------------   ----------------------------------\n",
      "(-y, x, z)                          [0.25, 0.25, 0.25]  [-0.25  0.25  0.25]\n",
      "----------------------------------\n",
      "Rot:\n",
      "[[ 0. -1.  0.]\n",
      " [ 1.  0.  0.]\n",
      " [ 0.  0.  1.]]\n",
      "tau\n",
      "[0. 0. 0.]\n",
      "----------------------------------  -----------------   ----------------------------------\n",
      "(y, -x, -z)                         [0.75, 0.75, 0.75]  [ 0.75 -0.75 -0.75]\n",
      "----------------------------------\n",
      "Rot:\n",
      "[[ 0.  1.  0.]\n",
      " [-1.  0.  0.]\n",
      " [ 0.  0. -1.]]\n",
      "tau\n",
      "[0. 0. 0.]\n",
      "----------------------------------  -----------------   ----------------------------------\n",
      "\n",
      "\n"
     ]
    }
   ],
   "source": [
    "print(\"\\n\")\n",
    "print(tabulate([\n",
    "\t[\"(\"+str(Sym1.as_xyz_string()+\")\"),str(Ba),str(Bas)],\n",
    "\t[\"----------------------------------\",\"\",\"\"],\n",
    "\t[Sym1,\"\",\"\"],\n",
    "\t[\"----------------------------------\",\"-----------------\",\"----------------------------------\"],\n",
    "\t[\"(\"+str(Sym2.as_xyz_string()+\")\"),str(Cl1),str(Cl1s)],\n",
    "\t[\"----------------------------------\",\"\",\"\"],\t\n",
    "\t[Sym2,\"\",\"\"],\n",
    "\t[\"----------------------------------\",\"-----------------\",\"----------------------------------\"],\n",
    "\t[\"(\"+str(Sym3.as_xyz_string()+\")\"),str(Cl2),str(Cl2s)],\n",
    "\t[\"----------------------------------\",\"\",\"\"],\t\n",
    "\t[Sym3,\"\",\"\"],\n",
    "\t[\"----------------------------------\",\"-----------------\",\"----------------------------------\"]],\n",
    "\theaders=[\"Opération de symétrie\",\"Atome de départ\",\"Atome d'arrivée\"]))\n",
    "print(\"\\n\")"
   ]
  },
  {
   "cell_type": "code",
   "execution_count": null,
   "id": "3e53209f",
   "metadata": {},
   "outputs": [],
   "source": []
  }
 ],
 "metadata": {
  "kernelspec": {
   "display_name": "Python 3",
   "language": "python",
   "name": "python3"
  },
  "language_info": {
   "codemirror_mode": {
    "name": "ipython",
    "version": 3
   },
   "file_extension": ".py",
   "mimetype": "text/x-python",
   "name": "python",
   "nbconvert_exporter": "python",
   "pygments_lexer": "ipython3",
   "version": "3.6.8"
  }
 },
 "nbformat": 4,
 "nbformat_minor": 5
}
